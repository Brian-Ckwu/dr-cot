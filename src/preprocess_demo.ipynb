{
 "cells": [
  {
   "cell_type": "code",
   "execution_count": null,
   "metadata": {},
   "outputs": [],
   "source": [
    "from data import DDxDataset\n",
    "from context import PatientContext"
   ]
  },
  {
   "cell_type": "markdown",
   "metadata": {},
   "source": [
    "## The DDxDataset Object\n",
    "\n",
    "The DDxDataset contains utility functions for getting patient information (e.g., differential diagnosis, evidences, and ground truth pathology, ...). Please refer to `data.py` for more information."
   ]
  },
  {
   "cell_type": "code",
   "execution_count": null,
   "metadata": {},
   "outputs": [],
   "source": [
    "csv_path = \"../ddxplus/release_test_patients.csv\"  # [\"release_train_patients.csv\", \"release_validate_patients.csv\", \"release_test_patients.csv\"]\n",
    "pathology_info_path = \"../ddxplus/release_conditions.json\"\n",
    "evidences_info_path = \"../ddxplus/our_evidences_to_qa_v2.json\"\n",
    "\n",
    "dataset = DDxDataset(csv_path, pathology_info_path, evidences_info_path)"
   ]
  },
  {
   "cell_type": "markdown",
   "metadata": {},
   "source": [
    "### Sample Patients of A Specific Initial Evidence (i.e., Chief Complaint)"
   ]
  },
  {
   "cell_type": "code",
   "execution_count": null,
   "metadata": {},
   "outputs": [],
   "source": [
    "pats = dataset.sample_patients(\n",
    "    ie=\"cough\",  # initial evidence\n",
    "    n=100,  # number of patients\n",
    "    seed=42,  # random seed\n",
    "    # ddxs=[\"Pneumonia\", \"GERD\"]  # optional: list of ddxs\n",
    ")\n",
    "pats.head()"
   ]
  },
  {
   "cell_type": "markdown",
   "metadata": {},
   "source": [
    "## Patient Profiles\n",
    "\n",
    "One may use the PatientContext object for getting patient profiles in the natural language format."
   ]
  },
  {
   "cell_type": "code",
   "execution_count": null,
   "metadata": {},
   "outputs": [],
   "source": [
    "pat = pats.iloc[0]  # select a patient\n",
    "pat"
   ]
  },
  {
   "cell_type": "code",
   "execution_count": null,
   "metadata": {},
   "outputs": [],
   "source": [
    "profile = PatientContext(\n",
    "    sex=pat.SEX,\n",
    "    age=pat.AGE,\n",
    "    initial_evidence=pat.INITIAL_EVIDENCE,\n",
    "    evidences=pat.EVIDENCES\n",
    ")\n",
    "print(profile.text())"
   ]
  }
 ],
 "metadata": {
  "kernelspec": {
   "display_name": "dr-cot",
   "language": "python",
   "name": "python3"
  },
  "language_info": {
   "codemirror_mode": {
    "name": "ipython",
    "version": 3
   },
   "file_extension": ".py",
   "mimetype": "text/x-python",
   "name": "python",
   "nbconvert_exporter": "python",
   "pygments_lexer": "ipython3",
   "version": "3.9.17"
  }
 },
 "nbformat": 4,
 "nbformat_minor": 2
}
